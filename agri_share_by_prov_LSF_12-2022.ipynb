{
 "cells": [
  {
   "cell_type": "markdown",
   "metadata": {},
   "source": [
    "#### Calculating the percent share of agriculture in total employment per province for December 2022\n",
    "\n",
    "###### Data Source: PSA Labor Survey December 2022"
   ]
  },
  {
   "cell_type": "code",
   "execution_count": null,
   "metadata": {},
   "outputs": [],
   "source": [
    "import pandas as pd\n",
    "# import numpy as np"
   ]
  },
  {
   "cell_type": "markdown",
   "metadata": {},
   "source": [
    "##### Reading CSV file as DF"
   ]
  },
  {
   "cell_type": "code",
   "execution_count": null,
   "metadata": {},
   "outputs": [],
   "source": [
    "fp = r\"LFS PUF December 2022.CSV\"\n",
    "\n",
    "df = pd.read_csv(fp, usecols=['PUFREG', 'PUFC09_WORK', 'PUFC11A_PROVMUN', 'PUFC15_PKB'],\n",
    "                 na_values=[' ', '  ', '   ', '    ', '     ', '      '])\n",
    "df.sample(5)"
   ]
  },
  {
   "cell_type": "markdown",
   "metadata": {},
   "source": [
    "##### Check column data types & DF shape"
   ]
  },
  {
   "cell_type": "code",
   "execution_count": null,
   "metadata": {},
   "outputs": [],
   "source": [
    "df.dtypes"
   ]
  },
  {
   "cell_type": "code",
   "execution_count": null,
   "metadata": {},
   "outputs": [],
   "source": [
    "df.shape"
   ]
  },
  {
   "cell_type": "markdown",
   "metadata": {},
   "source": [
    "##### Save to a new DF only rows where work indicator = 1"
   ]
  },
  {
   "cell_type": "code",
   "execution_count": null,
   "metadata": {},
   "outputs": [],
   "source": [
    "work_df = df.loc[df['PUFC09_WORK'] == 1]\n",
    "work_df.sample(5)"
   ]
  },
  {
   "cell_type": "markdown",
   "metadata": {},
   "source": [
    "##### Rename columns and drop work indicator column"
   ]
  },
  {
   "cell_type": "code",
   "execution_count": null,
   "metadata": {},
   "outputs": [],
   "source": [
    "col_names = {\n",
    "    'PUFREG': 'REGION',\n",
    "    'PUFC11A_PROVMUN': 'PROV_MUN',\n",
    "    'PUFC15_PKB': 'INDUSTRY'\n",
    "}\n",
    "\n",
    "work_df = work_df.rename(columns=col_names)[['REGION', 'PROV_MUN', 'INDUSTRY']]\n",
    "work_df.sample(5)"
   ]
  },
  {
   "cell_type": "markdown",
   "metadata": {},
   "source": [
    "##### Parse province out of prov-muni column"
   ]
  },
  {
   "cell_type": "code",
   "execution_count": null,
   "metadata": {},
   "outputs": [],
   "source": [
    "# Remove decimal place from prov-muni by converting to int\n",
    "work_df['PROV_MUN'] = work_df['PROV_MUN'].astype(int)\n",
    "\n",
    "# Convert to string, pad w/ leading zeroes up to 4 chars,\n",
    "# then slice out first 2 chars as province code\n",
    "work_df['PROVINCE'] = work_df['PROV_MUN'].astype(str)\\\n",
    "                      .str.zfill(4).str.slice(0,2)\n",
    "\n",
    "work_df.sample(5)"
   ]
  },
  {
   "cell_type": "markdown",
   "metadata": {},
   "source": [
    "##### Group DF by province code"
   ]
  },
  {
   "cell_type": "code",
   "execution_count": null,
   "metadata": {},
   "outputs": [],
   "source": [
    "by_prov = work_df.groupby('PROVINCE')\n",
    "len(by_prov)"
   ]
  },
  {
   "cell_type": "markdown",
   "metadata": {},
   "source": [
    "##### Calculate percent share of agriculture in total employment per province"
   ]
  },
  {
   "cell_type": "code",
   "execution_count": null,
   "metadata": {},
   "outputs": [],
   "source": [
    "# Create empty dataframe for aggregated values\n",
    "agshare_by_prov = pd.DataFrame()\n",
    "\n",
    "# Iterate over each province\n",
    "for key, group in by_prov:\n",
    "\n",
    "    # Create empty series in which to store each calculation\n",
    "    c = pd.Series()\n",
    "\n",
    "    # Add region code to series as well\n",
    "    c['REGION'] = group['REGION'].median().astype(int)\n",
    "\n",
    "    # Add key (i.e. province code) into series of values\n",
    "    c['PROVINCE'] = key\n",
    "\n",
    "    # Count total number of employed (aka length of group)\n",
    "    c['TOTAL_EMPLOYED'] = group['INDUSTRY'].count()\n",
    "\n",
    "    # Count number of people employed in agriculture\n",
    "    c['AGRI_EMPLOYED'] = group.loc[group['INDUSTRY'] < 4]['INDUSTRY'].count()\n",
    "\n",
    "    # Calculate ratio between agri & total employment\n",
    "    # and round off values to 2 decimal places\n",
    "    c['PERCENT_AGRI'] = c['AGRI_EMPLOYED'] / c['TOTAL_EMPLOYED'] * 100\n",
    "    c['PERCENT_AGRI'] = round(c['PERCENT_AGRI'], 2)\n",
    "\n",
    "    # Convert series into dataframe and transpose into a row\n",
    "    row = c.to_frame().transpose()\n",
    "\n",
    "    # Concatenate new row into agshare_by_prov dataframe\n",
    "    agshare_by_prov = pd.concat([agshare_by_prov, row], ignore_index=True)\n",
    "\n",
    "agshare_by_prov = agshare_by_prov.set_index('PROVINCE')\n",
    "agshare_by_prov"
   ]
  },
  {
   "cell_type": "code",
   "execution_count": null,
   "metadata": {},
   "outputs": [],
   "source": [
    "agshare_by_prov.dtypes"
   ]
  },
  {
   "cell_type": "code",
   "execution_count": null,
   "metadata": {},
   "outputs": [],
   "source": [
    "agshare_by_prov[['PERCENT_AGRI']]\\\n",
    "        .sort_values(by='PERCENT_AGRI')\\\n",
    "        .plot(kind='barh', linewidth=2, width=0.5, figsize=(7, 21))"
   ]
  },
  {
   "cell_type": "code",
   "execution_count": null,
   "metadata": {},
   "outputs": [],
   "source": [
    "agshare_by_prov.to_csv(r\"Agri Share by Province - LFS Dec 2022.csv\")"
   ]
  },
  {
   "cell_type": "code",
   "execution_count": null,
   "metadata": {},
   "outputs": [],
   "source": []
  }
 ],
 "metadata": {
  "kernelspec": {
   "display_name": "geopython",
   "language": "python",
   "name": "python3"
  },
  "language_info": {
   "codemirror_mode": {
    "name": "ipython",
    "version": 3
   },
   "file_extension": ".py",
   "mimetype": "text/x-python",
   "name": "python",
   "nbconvert_exporter": "python",
   "pygments_lexer": "ipython3",
   "version": "3.12.0"
  }
 },
 "nbformat": 4,
 "nbformat_minor": 2
}
