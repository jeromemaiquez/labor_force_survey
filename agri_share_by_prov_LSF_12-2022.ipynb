{
 "cells": [
  {
   "cell_type": "markdown",
   "metadata": {},
   "source": [
    "#### Calculating the percent share of agriculture in total employment per province for December 2022\n",
    "\n",
    "###### Data Source: PSA Labor Survey December 2022"
   ]
  },
  {
   "cell_type": "code",
   "execution_count": 8,
   "metadata": {},
   "outputs": [],
   "source": [
    "import pandas as pd\n",
    "# import numpy as np"
   ]
  },
  {
   "cell_type": "markdown",
   "metadata": {},
   "source": [
    "##### Reading CSV file as DF"
   ]
  },
  {
   "cell_type": "code",
   "execution_count": 29,
   "metadata": {},
   "outputs": [
    {
     "data": {
      "text/html": [
       "<div>\n",
       "<style scoped>\n",
       "    .dataframe tbody tr th:only-of-type {\n",
       "        vertical-align: middle;\n",
       "    }\n",
       "\n",
       "    .dataframe tbody tr th {\n",
       "        vertical-align: top;\n",
       "    }\n",
       "\n",
       "    .dataframe thead th {\n",
       "        text-align: right;\n",
       "    }\n",
       "</style>\n",
       "<table border=\"1\" class=\"dataframe\">\n",
       "  <thead>\n",
       "    <tr style=\"text-align: right;\">\n",
       "      <th></th>\n",
       "      <th>PUFREG</th>\n",
       "      <th>PUFC09_WORK</th>\n",
       "      <th>PUFC11A_PROVMUN</th>\n",
       "      <th>PUFC15_PKB</th>\n",
       "    </tr>\n",
       "  </thead>\n",
       "  <tbody>\n",
       "    <tr>\n",
       "      <th>10986</th>\n",
       "      <td>5</td>\n",
       "      <td>NaN</td>\n",
       "      <td>NaN</td>\n",
       "      <td>NaN</td>\n",
       "    </tr>\n",
       "    <tr>\n",
       "      <th>4757</th>\n",
       "      <td>3</td>\n",
       "      <td>2.0</td>\n",
       "      <td>NaN</td>\n",
       "      <td>NaN</td>\n",
       "    </tr>\n",
       "    <tr>\n",
       "      <th>26617</th>\n",
       "      <td>11</td>\n",
       "      <td>1.0</td>\n",
       "      <td>2505.0</td>\n",
       "      <td>47.0</td>\n",
       "    </tr>\n",
       "    <tr>\n",
       "      <th>42330</th>\n",
       "      <td>16</td>\n",
       "      <td>2.0</td>\n",
       "      <td>NaN</td>\n",
       "      <td>NaN</td>\n",
       "    </tr>\n",
       "    <tr>\n",
       "      <th>14877</th>\n",
       "      <td>6</td>\n",
       "      <td>1.0</td>\n",
       "      <td>4516.0</td>\n",
       "      <td>84.0</td>\n",
       "    </tr>\n",
       "  </tbody>\n",
       "</table>\n",
       "</div>"
      ],
      "text/plain": [
       "       PUFREG  PUFC09_WORK  PUFC11A_PROVMUN  PUFC15_PKB\n",
       "10986       5          NaN              NaN         NaN\n",
       "4757        3          2.0              NaN         NaN\n",
       "26617      11          1.0           2505.0        47.0\n",
       "42330      16          2.0              NaN         NaN\n",
       "14877       6          1.0           4516.0        84.0"
      ]
     },
     "execution_count": 29,
     "metadata": {},
     "output_type": "execute_result"
    }
   ],
   "source": [
    "fp = r\"LFS PUF December 2022.CSV\"\n",
    "\n",
    "df = pd.read_csv(fp, usecols=['PUFREG', 'PUFC09_WORK', 'PUFC11A_PROVMUN', 'PUFC15_PKB'],\n",
    "                 na_values=[' ', '  ', '   ', '    ', '     ', '      '])\n",
    "df.sample(5)"
   ]
  },
  {
   "cell_type": "markdown",
   "metadata": {},
   "source": [
    "##### Check column data types & DF shape"
   ]
  },
  {
   "cell_type": "code",
   "execution_count": 30,
   "metadata": {},
   "outputs": [
    {
     "data": {
      "text/plain": [
       "PUFREG               int64\n",
       "PUFC09_WORK        float64\n",
       "PUFC11A_PROVMUN    float64\n",
       "PUFC15_PKB         float64\n",
       "dtype: object"
      ]
     },
     "execution_count": 30,
     "metadata": {},
     "output_type": "execute_result"
    }
   ],
   "source": [
    "df.dtypes"
   ]
  },
  {
   "cell_type": "code",
   "execution_count": 31,
   "metadata": {},
   "outputs": [
    {
     "data": {
      "text/plain": [
       "(45687, 4)"
      ]
     },
     "execution_count": 31,
     "metadata": {},
     "output_type": "execute_result"
    }
   ],
   "source": [
    "df.shape"
   ]
  },
  {
   "cell_type": "markdown",
   "metadata": {},
   "source": [
    "##### Save to a new DF only rows where work indicator = 1"
   ]
  },
  {
   "cell_type": "code",
   "execution_count": 32,
   "metadata": {},
   "outputs": [
    {
     "data": {
      "text/html": [
       "<div>\n",
       "<style scoped>\n",
       "    .dataframe tbody tr th:only-of-type {\n",
       "        vertical-align: middle;\n",
       "    }\n",
       "\n",
       "    .dataframe tbody tr th {\n",
       "        vertical-align: top;\n",
       "    }\n",
       "\n",
       "    .dataframe thead th {\n",
       "        text-align: right;\n",
       "    }\n",
       "</style>\n",
       "<table border=\"1\" class=\"dataframe\">\n",
       "  <thead>\n",
       "    <tr style=\"text-align: right;\">\n",
       "      <th></th>\n",
       "      <th>PUFREG</th>\n",
       "      <th>PUFC09_WORK</th>\n",
       "      <th>PUFC11A_PROVMUN</th>\n",
       "      <th>PUFC15_PKB</th>\n",
       "    </tr>\n",
       "  </thead>\n",
       "  <tbody>\n",
       "    <tr>\n",
       "      <th>31509</th>\n",
       "      <td>13</td>\n",
       "      <td>1.0</td>\n",
       "      <td>7404.0</td>\n",
       "      <td>96.0</td>\n",
       "    </tr>\n",
       "    <tr>\n",
       "      <th>40914</th>\n",
       "      <td>15</td>\n",
       "      <td>1.0</td>\n",
       "      <td>7010.0</td>\n",
       "      <td>3.0</td>\n",
       "    </tr>\n",
       "    <tr>\n",
       "      <th>18053</th>\n",
       "      <td>8</td>\n",
       "      <td>1.0</td>\n",
       "      <td>3708.0</td>\n",
       "      <td>45.0</td>\n",
       "    </tr>\n",
       "    <tr>\n",
       "      <th>27240</th>\n",
       "      <td>11</td>\n",
       "      <td>1.0</td>\n",
       "      <td>8601.0</td>\n",
       "      <td>1.0</td>\n",
       "    </tr>\n",
       "    <tr>\n",
       "      <th>24542</th>\n",
       "      <td>10</td>\n",
       "      <td>1.0</td>\n",
       "      <td>4301.0</td>\n",
       "      <td>1.0</td>\n",
       "    </tr>\n",
       "  </tbody>\n",
       "</table>\n",
       "</div>"
      ],
      "text/plain": [
       "       PUFREG  PUFC09_WORK  PUFC11A_PROVMUN  PUFC15_PKB\n",
       "31509      13          1.0           7404.0        96.0\n",
       "40914      15          1.0           7010.0         3.0\n",
       "18053       8          1.0           3708.0        45.0\n",
       "27240      11          1.0           8601.0         1.0\n",
       "24542      10          1.0           4301.0         1.0"
      ]
     },
     "execution_count": 32,
     "metadata": {},
     "output_type": "execute_result"
    }
   ],
   "source": [
    "work_df = df.loc[df['PUFC09_WORK'] == 1]\n",
    "work_df.sample(5)"
   ]
  },
  {
   "cell_type": "markdown",
   "metadata": {},
   "source": [
    "##### Rename columns and drop work indicator column"
   ]
  },
  {
   "cell_type": "code",
   "execution_count": 36,
   "metadata": {},
   "outputs": [
    {
     "data": {
      "text/html": [
       "<div>\n",
       "<style scoped>\n",
       "    .dataframe tbody tr th:only-of-type {\n",
       "        vertical-align: middle;\n",
       "    }\n",
       "\n",
       "    .dataframe tbody tr th {\n",
       "        vertical-align: top;\n",
       "    }\n",
       "\n",
       "    .dataframe thead th {\n",
       "        text-align: right;\n",
       "    }\n",
       "</style>\n",
       "<table border=\"1\" class=\"dataframe\">\n",
       "  <thead>\n",
       "    <tr style=\"text-align: right;\">\n",
       "      <th></th>\n",
       "      <th>REGION</th>\n",
       "      <th>PROV_MUN</th>\n",
       "      <th>INDUSTRY</th>\n",
       "    </tr>\n",
       "  </thead>\n",
       "  <tbody>\n",
       "    <tr>\n",
       "      <th>30472</th>\n",
       "      <td>13</td>\n",
       "      <td>3905.0</td>\n",
       "      <td>82.0</td>\n",
       "    </tr>\n",
       "    <tr>\n",
       "      <th>25536</th>\n",
       "      <td>11</td>\n",
       "      <td>2317.0</td>\n",
       "      <td>68.0</td>\n",
       "    </tr>\n",
       "    <tr>\n",
       "      <th>4213</th>\n",
       "      <td>3</td>\n",
       "      <td>4903.0</td>\n",
       "      <td>85.0</td>\n",
       "    </tr>\n",
       "    <tr>\n",
       "      <th>12774</th>\n",
       "      <td>6</td>\n",
       "      <td>618.0</td>\n",
       "      <td>1.0</td>\n",
       "    </tr>\n",
       "    <tr>\n",
       "      <th>27642</th>\n",
       "      <td>12</td>\n",
       "      <td>4701.0</td>\n",
       "      <td>1.0</td>\n",
       "    </tr>\n",
       "  </tbody>\n",
       "</table>\n",
       "</div>"
      ],
      "text/plain": [
       "       REGION  PROV_MUN  INDUSTRY\n",
       "30472      13    3905.0      82.0\n",
       "25536      11    2317.0      68.0\n",
       "4213        3    4903.0      85.0\n",
       "12774       6     618.0       1.0\n",
       "27642      12    4701.0       1.0"
      ]
     },
     "execution_count": 36,
     "metadata": {},
     "output_type": "execute_result"
    }
   ],
   "source": [
    "col_names = {\n",
    "    'PUFREG': 'REGION',\n",
    "    'PUFC11A_PROVMUN': 'PROV_MUN',\n",
    "    'PUFC15_PKB': 'INDUSTRY'\n",
    "}\n",
    "\n",
    "work_df = work_df.rename(columns=col_names)[['REGION', 'PROV_MUN', 'INDUSTRY']]\n",
    "work_df.sample(5)"
   ]
  },
  {
   "cell_type": "markdown",
   "metadata": {},
   "source": [
    "##### Parse province out of prov-muni column"
   ]
  },
  {
   "cell_type": "code",
   "execution_count": 37,
   "metadata": {},
   "outputs": [
    {
     "data": {
      "text/html": [
       "<div>\n",
       "<style scoped>\n",
       "    .dataframe tbody tr th:only-of-type {\n",
       "        vertical-align: middle;\n",
       "    }\n",
       "\n",
       "    .dataframe tbody tr th {\n",
       "        vertical-align: top;\n",
       "    }\n",
       "\n",
       "    .dataframe thead th {\n",
       "        text-align: right;\n",
       "    }\n",
       "</style>\n",
       "<table border=\"1\" class=\"dataframe\">\n",
       "  <thead>\n",
       "    <tr style=\"text-align: right;\">\n",
       "      <th></th>\n",
       "      <th>REGION</th>\n",
       "      <th>PROV_MUN</th>\n",
       "      <th>INDUSTRY</th>\n",
       "      <th>PROVINCE</th>\n",
       "    </tr>\n",
       "  </thead>\n",
       "  <tbody>\n",
       "    <tr>\n",
       "      <th>13641</th>\n",
       "      <td>6</td>\n",
       "      <td>3022</td>\n",
       "      <td>47.0</td>\n",
       "      <td>30</td>\n",
       "    </tr>\n",
       "    <tr>\n",
       "      <th>41457</th>\n",
       "      <td>16</td>\n",
       "      <td>203</td>\n",
       "      <td>96.0</td>\n",
       "      <td>02</td>\n",
       "    </tr>\n",
       "    <tr>\n",
       "      <th>326</th>\n",
       "      <td>1</td>\n",
       "      <td>2819</td>\n",
       "      <td>47.0</td>\n",
       "      <td>28</td>\n",
       "    </tr>\n",
       "    <tr>\n",
       "      <th>11913</th>\n",
       "      <td>5</td>\n",
       "      <td>6211</td>\n",
       "      <td>1.0</td>\n",
       "      <td>62</td>\n",
       "    </tr>\n",
       "    <tr>\n",
       "      <th>34221</th>\n",
       "      <td>13</td>\n",
       "      <td>7602</td>\n",
       "      <td>78.0</td>\n",
       "      <td>76</td>\n",
       "    </tr>\n",
       "  </tbody>\n",
       "</table>\n",
       "</div>"
      ],
      "text/plain": [
       "       REGION  PROV_MUN  INDUSTRY PROVINCE\n",
       "13641       6      3022      47.0       30\n",
       "41457      16       203      96.0       02\n",
       "326         1      2819      47.0       28\n",
       "11913       5      6211       1.0       62\n",
       "34221      13      7602      78.0       76"
      ]
     },
     "execution_count": 37,
     "metadata": {},
     "output_type": "execute_result"
    }
   ],
   "source": [
    "# Remove decimal place from prov-muni by converting to int\n",
    "work_df['PROV_MUN'] = work_df['PROV_MUN'].astype(int)\n",
    "\n",
    "# Convert to string, pad w/ leading zeroes up to 4 chars,\n",
    "# then slice out first 2 chars as province code\n",
    "work_df['PROVINCE'] = work_df['PROV_MUN'].astype(str)\\\n",
    "                      .str.zfill(4).str.slice(0,2)\n",
    "\n",
    "work_df.sample(5)"
   ]
  },
  {
   "cell_type": "markdown",
   "metadata": {},
   "source": [
    "##### Group DF by province code"
   ]
  },
  {
   "cell_type": "code",
   "execution_count": 40,
   "metadata": {},
   "outputs": [
    {
     "data": {
      "text/plain": [
       "87"
      ]
     },
     "execution_count": 40,
     "metadata": {},
     "output_type": "execute_result"
    }
   ],
   "source": [
    "by_prov = work_df.groupby('PROVINCE')\n",
    "len(by_prov)"
   ]
  },
  {
   "cell_type": "markdown",
   "metadata": {},
   "source": [
    "##### Calculate percent share of agriculture in total employment per province"
   ]
  },
  {
   "cell_type": "code",
   "execution_count": 75,
   "metadata": {},
   "outputs": [
    {
     "data": {
      "text/html": [
       "<div>\n",
       "<style scoped>\n",
       "    .dataframe tbody tr th:only-of-type {\n",
       "        vertical-align: middle;\n",
       "    }\n",
       "\n",
       "    .dataframe tbody tr th {\n",
       "        vertical-align: top;\n",
       "    }\n",
       "\n",
       "    .dataframe thead th {\n",
       "        text-align: right;\n",
       "    }\n",
       "</style>\n",
       "<table border=\"1\" class=\"dataframe\">\n",
       "  <thead>\n",
       "    <tr style=\"text-align: right;\">\n",
       "      <th></th>\n",
       "      <th>REGION</th>\n",
       "      <th>TOTAL_EMPLOYED</th>\n",
       "      <th>AGRI_EMPLOYED</th>\n",
       "      <th>PERCENT_AGRI</th>\n",
       "    </tr>\n",
       "    <tr>\n",
       "      <th>PROVINCE</th>\n",
       "      <th></th>\n",
       "      <th></th>\n",
       "      <th></th>\n",
       "      <th></th>\n",
       "    </tr>\n",
       "  </thead>\n",
       "  <tbody>\n",
       "    <tr>\n",
       "      <th>01</th>\n",
       "      <td>14</td>\n",
       "      <td>168</td>\n",
       "      <td>40</td>\n",
       "      <td>23.81</td>\n",
       "    </tr>\n",
       "    <tr>\n",
       "      <th>02</th>\n",
       "      <td>16</td>\n",
       "      <td>406</td>\n",
       "      <td>83</td>\n",
       "      <td>20.44</td>\n",
       "    </tr>\n",
       "    <tr>\n",
       "      <th>03</th>\n",
       "      <td>16</td>\n",
       "      <td>250</td>\n",
       "      <td>154</td>\n",
       "      <td>61.6</td>\n",
       "    </tr>\n",
       "    <tr>\n",
       "      <th>04</th>\n",
       "      <td>6</td>\n",
       "      <td>204</td>\n",
       "      <td>49</td>\n",
       "      <td>24.02</td>\n",
       "    </tr>\n",
       "    <tr>\n",
       "      <th>05</th>\n",
       "      <td>5</td>\n",
       "      <td>186</td>\n",
       "      <td>40</td>\n",
       "      <td>21.51</td>\n",
       "    </tr>\n",
       "    <tr>\n",
       "      <th>...</th>\n",
       "      <td>...</td>\n",
       "      <td>...</td>\n",
       "      <td>...</td>\n",
       "      <td>...</td>\n",
       "    </tr>\n",
       "    <tr>\n",
       "      <th>83</th>\n",
       "      <td>9</td>\n",
       "      <td>271</td>\n",
       "      <td>163</td>\n",
       "      <td>60.15</td>\n",
       "    </tr>\n",
       "    <tr>\n",
       "      <th>85</th>\n",
       "      <td>16</td>\n",
       "      <td>78</td>\n",
       "      <td>34</td>\n",
       "      <td>43.59</td>\n",
       "    </tr>\n",
       "    <tr>\n",
       "      <th>86</th>\n",
       "      <td>11</td>\n",
       "      <td>182</td>\n",
       "      <td>106</td>\n",
       "      <td>58.24</td>\n",
       "    </tr>\n",
       "    <tr>\n",
       "      <th>97</th>\n",
       "      <td>9</td>\n",
       "      <td>69</td>\n",
       "      <td>20</td>\n",
       "      <td>28.99</td>\n",
       "    </tr>\n",
       "    <tr>\n",
       "      <th>98</th>\n",
       "      <td>12</td>\n",
       "      <td>143</td>\n",
       "      <td>9</td>\n",
       "      <td>6.29</td>\n",
       "    </tr>\n",
       "  </tbody>\n",
       "</table>\n",
       "<p>87 rows × 4 columns</p>\n",
       "</div>"
      ],
      "text/plain": [
       "         REGION TOTAL_EMPLOYED AGRI_EMPLOYED PERCENT_AGRI\n",
       "PROVINCE                                                 \n",
       "01           14            168            40        23.81\n",
       "02           16            406            83        20.44\n",
       "03           16            250           154         61.6\n",
       "04            6            204            49        24.02\n",
       "05            5            186            40        21.51\n",
       "...         ...            ...           ...          ...\n",
       "83            9            271           163        60.15\n",
       "85           16             78            34        43.59\n",
       "86           11            182           106        58.24\n",
       "97            9             69            20        28.99\n",
       "98           12            143             9         6.29\n",
       "\n",
       "[87 rows x 4 columns]"
      ]
     },
     "execution_count": 75,
     "metadata": {},
     "output_type": "execute_result"
    }
   ],
   "source": [
    "# Create empty dataframe for aggregated values\n",
    "agshare_by_prov = pd.DataFrame()\n",
    "\n",
    "# Iterate over each province\n",
    "for key, group in by_prov:\n",
    "\n",
    "    # Create empty series in which to store each calculation\n",
    "    c = pd.Series()\n",
    "\n",
    "    # Add region code to series as well\n",
    "    c['REGION'] = group['REGION'].median().astype(int)\n",
    "\n",
    "    # Add key (i.e. province code) into series of values\n",
    "    c['PROVINCE'] = key\n",
    "\n",
    "    # Count total number of employed (aka length of group)\n",
    "    c['TOTAL_EMPLOYED'] = group['INDUSTRY'].count()\n",
    "\n",
    "    # Count number of people employed in agriculture\n",
    "    c['AGRI_EMPLOYED'] = group.loc[group['INDUSTRY'] < 4]['INDUSTRY'].count()\n",
    "\n",
    "    # Calculate ratio between agri & total employment\n",
    "    # and round off values to 2 decimal places\n",
    "    c['PERCENT_AGRI'] = c['AGRI_EMPLOYED'] / c['TOTAL_EMPLOYED'] * 100\n",
    "    c['PERCENT_AGRI'] = round(c['PERCENT_AGRI'], 2)\n",
    "\n",
    "    # Convert series into dataframe and transpose into a row\n",
    "    row = c.to_frame().transpose()\n",
    "\n",
    "    # Concatenate new row into agshare_by_prov dataframe\n",
    "    agshare_by_prov = pd.concat([agshare_by_prov, row], ignore_index=True)\n",
    "\n",
    "agshare_by_prov = agshare_by_prov.set_index('PROVINCE')\n",
    "agshare_by_prov"
   ]
  },
  {
   "cell_type": "code",
   "execution_count": 76,
   "metadata": {},
   "outputs": [
    {
     "data": {
      "text/plain": [
       "REGION            object\n",
       "TOTAL_EMPLOYED    object\n",
       "AGRI_EMPLOYED     object\n",
       "PERCENT_AGRI      object\n",
       "dtype: object"
      ]
     },
     "execution_count": 76,
     "metadata": {},
     "output_type": "execute_result"
    }
   ],
   "source": [
    "agshare_by_prov.dtypes"
   ]
  },
  {
   "cell_type": "code",
   "execution_count": 78,
   "metadata": {},
   "outputs": [
    {
     "data": {
      "text/plain": [
       "<Axes: ylabel='PROVINCE'>"
      ]
     },
     "execution_count": 78,
     "metadata": {},
     "output_type": "execute_result"
    },
    {
     "data": {
      "image/png": "[encoded data removed]",
      "text/plain": [
       "<Figure size 700x2100 with 1 Axes>"
      ]
     },
     "metadata": {},
     "output_type": "display_data"
    }
   ],
   "source": [
    "agshare_by_prov[['PERCENT_AGRI']]\\\n",
    "        .sort_values(by='PERCENT_AGRI')\\\n",
    "        .plot(kind='barh', linewidth=2, width=0.5, figsize=(7, 21))"
   ]
  },
  {
   "cell_type": "code",
   "execution_count": 80,
   "metadata": {},
   "outputs": [],
   "source": [
    "agshare_by_prov.to_csv(r\"Agri Share by Province - LFS Dec 2022.csv\")"
   ]
  },
  {
   "cell_type": "code",
   "execution_count": null,
   "metadata": {},
   "outputs": [],
   "source": []
  }
 ],
 "metadata": {
  "kernelspec": {
   "display_name": "geopython",
   "language": "python",
   "name": "python3"
  },
  "language_info": {
   "codemirror_mode": {
    "name": "ipython",
    "version": 3
   },
   "file_extension": ".py",
   "mimetype": "text/x-python",
   "name": "python",
   "nbconvert_exporter": "python",
   "pygments_lexer": "ipython3",
   "version": "3.12.0"
  }
 },
 "nbformat": 4,
 "nbformat_minor": 2
}
