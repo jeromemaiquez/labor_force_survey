{
 "cells": [
  {
   "cell_type": "markdown",
   "metadata": {},
   "source": [
    "#### Calculating the percent share of agriculture in total employment per municipality or province for the year 2022 (PSA Labor Force Survey)"
   ]
  },
  {
   "cell_type": "markdown",
   "metadata": {},
   "source": [
    "Step 1: Import pandas"
   ]
  },
  {
   "cell_type": "code",
   "execution_count": null,
   "metadata": {},
   "outputs": [],
   "source": [
    "import pandas as pd"
   ]
  },
  {
   "cell_type": "markdown",
   "metadata": {},
   "source": [
    "Step 2: Combine all csv files in folder into one DF"
   ]
  },
  {
   "cell_type": "code",
   "execution_count": null,
   "metadata": {},
   "outputs": [],
   "source": [
    "# Import glob module to find files in directory\n",
    "import glob"
   ]
  },
  {
   "cell_type": "code",
   "execution_count": null,
   "metadata": {},
   "outputs": [],
   "source": [
    "# Store all csv filenames in list\n",
    "file_list = glob.glob(r\"L*.csv\")\n",
    "file_list"
   ]
  },
  {
   "cell_type": "code",
   "execution_count": null,
   "metadata": {},
   "outputs": [],
   "source": [
    "# Create empty dataframe to store all combined DFs\n",
    "lfs_2022_df = pd.DataFrame()\n",
    "\n",
    "# Define function to check if column name...\n",
    "# ...contains 'REG', 'WORK', 'PROVMUN', or 'PKB'\n",
    "def check_str(col_name):\n",
    "     substrs = ['REG','_WORK', '_PROVMUN', '_PKB']\n",
    "     return any(x in col_name for x in substrs)\n",
    "\n",
    "# For each csv file in folder...\n",
    "for fp in file_list:\n",
    "    # ...read into a DF, w/ specified cols & NaN values...\n",
    "    df = pd.read_csv(fp, usecols=check_str,\n",
    "                    na_values=[' ', '  ', '   ', '    ', '     ', '      '])\n",
    "    \n",
    "    # ...then append to empty DF for whole year\n",
    "    lfs_2022_df = pd.concat([lfs_2022_df, df], ignore_index=True)\n",
    "    \n",
    "# Display head of merged DF\n",
    "lfs_2022_df.head(20)"
   ]
  },
  {
   "cell_type": "markdown",
   "metadata": {},
   "source": [
    "Step 3: Merge all alike columns and drop extra columns"
   ]
  },
  {
   "cell_type": "code",
   "execution_count": null,
   "metadata": {},
   "outputs": [],
   "source": [
    "# Examine first 20 rows where PUFC11_WORK is not null\n",
    "lfs_2022_df.loc[~lfs_2022_df['PUFC11_WORK'].isnull()].head(20)"
   ]
  },
  {
   "cell_type": "code",
   "execution_count": null,
   "metadata": {},
   "outputs": [],
   "source": [
    "# For all rows where PUFC11_WORK is null, copy values from PUFC09_WORK and PUFC09A_WORK\n",
    "lfs_2022_df.loc[lfs_2022_df['PUFC11_WORK'].isnull(), 'PUFC11_WORK'] =\\\n",
    "    lfs_2022_df['PUFC09_WORK']\n",
    "\n",
    "lfs_2022_df.loc[lfs_2022_df['PUFC11_WORK'].isnull(), 'PUFC11_WORK'] =\\\n",
    "    lfs_2022_df['PUFC09A_WORK']\n",
    "\n",
    "lfs_2022_df.tail(10)"
   ]
  },
  {
   "cell_type": "code",
   "execution_count": null,
   "metadata": {},
   "outputs": [],
   "source": [
    "# Drop extra WORK columns\n",
    "lfs_2022_df = lfs_2022_df.drop(['PUFC09_WORK', 'PUFC09A_WORK'], axis=1)\n",
    "lfs_2022_df.tail(10)"
   ]
  },
  {
   "cell_type": "markdown",
   "metadata": {},
   "source": [
    "Repeat Step 3 for PROVMUN and PKB columns"
   ]
  },
  {
   "cell_type": "code",
   "execution_count": null,
   "metadata": {},
   "outputs": [],
   "source": [
    "# For all rows where PUFC12A_PROVMUN is null, copy values from PUFC11A_PROVMUN\n",
    "lfs_2022_df.loc[lfs_2022_df['PUFC12A_PROVMUN'].isnull(), 'PUFC12A_PROVMUN'] =\\\n",
    "    lfs_2022_df['PUFC11A_PROVMUN']\n",
    "\n",
    "lfs_2022_df.tail(10)"
   ]
  },
  {
   "cell_type": "code",
   "execution_count": null,
   "metadata": {},
   "outputs": [],
   "source": [
    "# For all rows where PUFC6_PKB is null, copy values from PUFC15_PKB\n",
    "lfs_2022_df.loc[lfs_2022_df['PUFC16_PKB'].isnull(), 'PUFC16_PKB'] =\\\n",
    "    lfs_2022_df['PUFC15_PKB']\n",
    "\n",
    "lfs_2022_df.tail(10)"
   ]
  },
  {
   "cell_type": "code",
   "execution_count": null,
   "metadata": {},
   "outputs": [],
   "source": [
    "# Drop extra PROVMUN and PKB columns\n",
    "lfs_2022_df = lfs_2022_df.drop(['PUFC11A_PROVMUN', 'PUFC15_PKB'], axis=1)\n",
    "lfs_2022_df.tail(10)"
   ]
  },
  {
   "cell_type": "markdown",
   "metadata": {},
   "source": [
    "Step 4: Save to new DF only the rows where WORK = 1 (employed)"
   ]
  },
  {
   "cell_type": "code",
   "execution_count": null,
   "metadata": {},
   "outputs": [],
   "source": [
    "work_df = lfs_2022_df.loc[lfs_2022_df['PUFC11_WORK'] == 1]\n",
    "work_df.sample(20)"
   ]
  },
  {
   "cell_type": "markdown",
   "metadata": {},
   "source": [
    "Step 5: Rename columns and drop work indicator column"
   ]
  },
  {
   "cell_type": "code",
   "execution_count": null,
   "metadata": {},
   "outputs": [],
   "source": [
    "col_names = {\n",
    "    'PUFREG': 'REGION',\n",
    "    'PUFC12A_PROVMUN': 'PROV_MUN',\n",
    "    'PUFC16_PKB': 'INDUSTRY'\n",
    "}\n",
    "\n",
    "work_df = work_df.rename(columns=col_names)[['REGION', 'PROV_MUN', 'INDUSTRY']]\n",
    "work_df.sample(20)"
   ]
  },
  {
   "cell_type": "markdown",
   "metadata": {},
   "source": [
    "Step 6: Parse province out of PROV_MUN column"
   ]
  },
  {
   "cell_type": "code",
   "execution_count": null,
   "metadata": {},
   "outputs": [],
   "source": [
    "# Remove decimal place from prov-muni by converting to int\n",
    "work_df['PROV_MUN'] = work_df['PROV_MUN'].astype(int)\n",
    "\n",
    "# Convert to string, pad w/ leading zeroes up to 4 chars,\n",
    "# then slice out first 2 chars as province code\n",
    "work_df['PROVINCE'] = work_df['PROV_MUN'].astype(str)\\\n",
    "                      .str.zfill(4).str.slice(0,2)\n",
    "\n",
    "work_df.sample(20)"
   ]
  },
  {
   "cell_type": "code",
   "execution_count": null,
   "metadata": {},
   "outputs": [],
   "source": [
    "# Count number of unique municipality codes\n",
    "len(work_df['PROV_MUN'].unique())"
   ]
  },
  {
   "cell_type": "code",
   "execution_count": null,
   "metadata": {},
   "outputs": [],
   "source": [
    "# Count number of unique province codes\n",
    "len(work_df['PROVINCE'].unique())"
   ]
  },
  {
   "cell_type": "markdown",
   "metadata": {},
   "source": [
    "Step 7: Group DF by municipality"
   ]
  },
  {
   "cell_type": "code",
   "execution_count": null,
   "metadata": {},
   "outputs": [],
   "source": [
    "by_muni = work_df.groupby('PROV_MUN')\n",
    "len(by_muni)"
   ]
  },
  {
   "cell_type": "markdown",
   "metadata": {},
   "source": [
    "Step 8: Calculate percent share of agriculture in total employment per municipality"
   ]
  },
  {
   "cell_type": "code",
   "execution_count": null,
   "metadata": {},
   "outputs": [],
   "source": [
    "# Create empty dataframe for aggregated values\n",
    "agshare_by_muni = pd.DataFrame()\n",
    "\n",
    "# Iterate over ach municipality\n",
    "for key, group in by_muni:\n",
    "\n",
    "    # Create empty series to store each calculation\n",
    "    c = pd.Series()\n",
    "\n",
    "    # Add region & muni code to series of values\n",
    "    c['REGION'] = group['REGION'].median().astype(int)\n",
    "    c['PROVINCE'] = group['PROVINCE'].astype(int).median()\n",
    "    c['PROV_MUN'] = key\n",
    "\n",
    "    # Count total number of employed (i.e. length per group)\n",
    "    c['TOTAL_EMPLOYED'] = group['INDUSTRY'].count()\n",
    "\n",
    "    # Count number of people employed in agriculture\n",
    "    c['AGRI_EMPLOYED'] = group.loc[group['INDUSTRY'] < 4, 'INDUSTRY'].count()\n",
    "\n",
    "    # Calculate ratio between agri & total employment\n",
    "    # and round off values to 2 decimal places\n",
    "    c['PERCENT_AGRI'] = c['AGRI_EMPLOYED'] / c['TOTAL_EMPLOYED'] * 100\n",
    "    c['PERCENT_AGRI'] = round(c['PERCENT_AGRI'], 2)\n",
    "\n",
    "    # Convert series into dataframe and transpose into a row\n",
    "    row = c.to_frame().transpose()\n",
    "\n",
    "    # Append new row into agshare_by_muni dataframe\n",
    "    agshare_by_muni = pd.concat([agshare_by_muni, row], ignore_index=True)\n",
    "\n",
    "agshare_by_muni"
   ]
  },
  {
   "cell_type": "markdown",
   "metadata": {},
   "source": [
    "Step 9: Read metadata file into DF of province & municipality names"
   ]
  },
  {
   "cell_type": "code",
   "execution_count": null,
   "metadata": {},
   "outputs": [],
   "source": [
    "# Read metadata xlsx file as DF\n",
    "\n",
    "names_fp = r\"lfs_november_2022_metadata(dictionary).xlsx\"\n",
    "\n",
    "geo_names = pd.read_excel(names_fp, sheet_name=r\"lfs_november_2022_valueset\",\n",
    "                          skiprows=168, skipfooter=284)\n",
    "\n",
    "# Define dict to rename columns\n",
    "new_cols = {\n",
    "    'Unnamed: 2': 'LOCATION',\n",
    "    'Unnamed: 3': 'LOC_CODE'\n",
    "}\n",
    "\n",
    "geo_names = geo_names.rename(columns=new_cols)[['LOCATION', 'LOC_CODE']]\n",
    "\n",
    "geo_names.sample(10)"
   ]
  },
  {
   "cell_type": "code",
   "execution_count": null,
   "metadata": {},
   "outputs": [],
   "source": [
    "# Split LOCATION column into province and municipality\n",
    "names = geo_names['LOCATION'].str.split(' - ', expand=True)\n",
    "\n",
    "# Put first item of split list into PROV_NAME column\n",
    "# But only get all chars after 4-digit code and space\n",
    "geo_names['PROV_NAME'] = names[0].str.slice(start=6)\n",
    "\n",
    "# Put second item of split list into MUN_NAME column\n",
    "geo_names['MUN_NAME'] = names[1]\n",
    "\n",
    "geo_names.sample(10)\n"
   ]
  },
  {
   "cell_type": "code",
   "execution_count": null,
   "metadata": {},
   "outputs": [],
   "source": [
    "# Drop unneeded LOCATION column\n",
    "geo_names.drop(columns=['LOCATION'], inplace=True)\n",
    "\n",
    "geo_names.sample(10)"
   ]
  },
  {
   "cell_type": "markdown",
   "metadata": {},
   "source": [
    "Step 10: Join names DF with employment DF (on muni code)"
   ]
  },
  {
   "cell_type": "code",
   "execution_count": null,
   "metadata": {},
   "outputs": [],
   "source": [
    "agshare_by_muni = agshare_by_muni.merge(right=geo_names, left_on='PROV_MUN', right_on='LOC_CODE')\n",
    "\n",
    "agshare_by_muni.sample(10)"
   ]
  },
  {
   "cell_type": "markdown",
   "metadata": {},
   "source": [
    "Step 11: Clean up province and municipality names"
   ]
  },
  {
   "cell_type": "code",
   "execution_count": null,
   "metadata": {},
   "outputs": [],
   "source": [
    "# Remove parentheticals from province & municipality names\n",
    "# agshare_by_muni['PROV_NAME'] = agshare_by_muni['PROV_NAME'].str.replace(r\"\\(.+\\)\", \"\")\n",
    "\n",
    "aliases = agshare_by_muni['PROV_NAME'].str.split(' \\(', expand=True)\n",
    "agshare_by_muni['PROV_NAME'] = aliases[0].str.strip()\n",
    "\n",
    "list(agshare_by_muni['PROV_NAME'].unique())"
   ]
  },
  {
   "cell_type": "code",
   "execution_count": null,
   "metadata": {},
   "outputs": [],
   "source": [
    "# Do the same for municipality names\n",
    "aliases = agshare_by_muni['MUN_NAME'].str.split(' \\(', expand=True)\n",
    "agshare_by_muni['MUN_NAME'] = aliases[0].str.strip()\n",
    "\n",
    "agshare_by_muni['MUN_NAME'].head(20)"
   ]
  },
  {
   "cell_type": "markdown",
   "metadata": {},
   "source": [
    "Step 9B: Clean up some rows"
   ]
  },
  {
   "cell_type": "code",
   "execution_count": null,
   "metadata": {},
   "outputs": [],
   "source": [
    "# Define dict w/ keys = old names and values = fixed names\n",
    "city_names = {\n",
    "    'Calaca': 'City of Calaca',\n",
    "    'Pres. Carlos P. Garcia': 'President Carlos P. Garcia',\n",
    "    'Baliuag': 'City of Baliwag',\n",
    "    'Carmona': 'City of Carmona',\n",
    "    'Datu Saudi-Ampatuan': 'Datu Saudi Ampatuan',\n",
    "    'Pio V. Corpuz': 'Pio V. Corpus',\n",
    "    'Bacungan': 'Leon T. Postigo',\n",
    "    'Hinoba-an': 'Hinoba-An'\n",
    "}\n",
    "\n",
    "agshare_by_muni.replace({'MUN_NAME': city_names}, inplace=True)\n",
    "\n",
    "new_names = list(city_names.values())\n",
    "\n",
    "agshare_by_muni.loc[agshare_by_muni['MUN_NAME'].isin(new_names)]"
   ]
  },
  {
   "cell_type": "code",
   "execution_count": null,
   "metadata": {},
   "outputs": [],
   "source": [
    "# Assign municipality names for City of Isabela and City of Cotabato\n",
    "agshare_by_muni.loc[agshare_by_muni['PROV_NAME'] == 'CITY OF ISABELA', 'MUN_NAME'] \\\n",
    "    = 'City of Isabela'\n",
    "\n",
    "agshare_by_muni.loc[agshare_by_muni['PROV_NAME'] == 'COTABATO CITY', 'MUN_NAME'] \\\n",
    "    = 'City of Cotabato'\n",
    "\n",
    "agshare_by_muni.loc[agshare_by_muni['MUN_NAME'].isin(['City of Isabela', 'City of Cotabato'])]"
   ]
  },
  {
   "cell_type": "code",
   "execution_count": null,
   "metadata": {},
   "outputs": [],
   "source": [
    "# Merge all Manila sub-municipalities into one municipality (City of Manila)\n",
    "manila = agshare_by_muni.loc[agshare_by_muni['PROVINCE'] == 39]\\\n",
    "        .groupby('PROVINCE', as_index=False)\\\n",
    "        .agg({\n",
    "            'REGION': 'min',\n",
    "            'PROVINCE': 'min',\n",
    "            'PROV_MUN': 'min',\n",
    "            'TOTAL_EMPLOYED': 'sum',\n",
    "            'AGRI_EMPLOYED': 'sum',\n",
    "            'PERCENT_AGRI': 'min',\n",
    "            'LOC_CODE': 'min',\n",
    "            'PROV_NAME': 'first',\n",
    "            'MUN_NAME': 'first'\n",
    "        })\n",
    "\n",
    "# Re-calculate PERCENT_AGRI and assign municipality name\n",
    "manila['PERCENT_AGRI'] = round(manila['AGRI_EMPLOYED'] / manila['TOTAL_EMPLOYED'] * 100, 2)\n",
    "manila['MUN_NAME'].replace({'Tondo I/II': 'City of Manila'}, inplace=True)\n",
    "\n",
    "# Append new row into agshare DF\n",
    "agshare_by_muni = pd.concat([agshare_by_muni, manila], ignore_index=True)\n",
    "\n",
    "# Drop all Manila sub-municipalities\n",
    "drop_indexes = agshare_by_muni.loc[(agshare_by_muni['PROVINCE'] == 39) & (agshare_by_muni['MUN_NAME'] != 'City of Manila')].index\n",
    "agshare_by_muni.drop(drop_indexes, inplace=True)\n",
    "\n",
    "agshare_by_muni.loc[agshare_by_muni['PROVINCE'] == 39]"
   ]
  },
  {
   "cell_type": "markdown",
   "metadata": {},
   "source": [
    "Step 12: Join agshare table with PGSC codes"
   ]
  },
  {
   "cell_type": "code",
   "execution_count": null,
   "metadata": {},
   "outputs": [],
   "source": [
    "# Define filepath to xlsx file with municipality PSGC codes\n",
    "psgc_fp = r\"C:\\Users\\HOWARD\\Desktop\\DENR CCIMS\\C - VULNERABILITY\\Health Vulnerability\\ABM3_PercentRural_PSA_2020.xlsx\"\n",
    "\n",
    "# Read excel file as DF\n",
    "psgc_df = pd.read_excel(psgc_fp, # sheet_name='PSGC',\n",
    "                        usecols=['ADM2', 'ADM3_EN', 'ADM3_CODE'])\n",
    "\n",
    "psgc_df.head(10)"
   ]
  },
  {
   "cell_type": "markdown",
   "metadata": {},
   "source": [
    "Clean up municipality names and codes before joining"
   ]
  },
  {
   "cell_type": "code",
   "execution_count": null,
   "metadata": {},
   "outputs": [],
   "source": [
    "# Clean up data: convert 0 into -\n",
    "psgc_df['ADM3_EN'] = psgc_df['ADM3_EN'].replace('0', '-', regex=True)\n",
    "\n",
    "# Remove parentheticals from municipality names\n",
    "aliases = psgc_df['ADM3_EN'].str.split(' \\(', expand=True)\n",
    "psgc_df['ADM3_EN'] = aliases[0].str.strip()\n",
    "\n",
    "# Convert muni code to string\n",
    "psgc_df['ADM3_CODE'] = psgc_df['ADM3_CODE'].astype(str).str.zfill(9)\n",
    "\n",
    "# Check all rows where code starts with '0215' (Cagayan)\n",
    "psgc_df.loc[psgc_df['ADM3_CODE'].str.startswith('0215')].head(30)"
   ]
  },
  {
   "cell_type": "code",
   "execution_count": null,
   "metadata": {},
   "outputs": [],
   "source": [
    "# In ADM2, change Cotabato to North Cotabato\n",
    "psgc_df.loc[psgc_df['ADM2'] == 'Cotabato', 'ADM2'] = 'North Cotabato'\n",
    "\n",
    "# Change ADM2 of Cotabato City to Cotabato City\n",
    "psgc_df.loc[psgc_df['ADM3_EN'] == 'City of Cotabato', 'ADM2'] = 'Cotabato City'\n",
    "\n",
    "# Change ADM2 of City of Manila to City of Manila\n",
    "psgc_df.loc[psgc_df['ADM3_EN'] == 'City of Manila', 'ADM2'] = 'City of Manila'\n",
    "\n",
    "# Change ADM3_EN of Sto. Tomas (in Pampanga) to Santo Tomas\n",
    "psgc_df.loc[psgc_df['ADM3_EN'] == 'Sto. Tomas', 'ADM3_EN'] = 'Santo Tomas'"
   ]
  },
  {
   "cell_type": "markdown",
   "metadata": {},
   "source": [
    "Perform join"
   ]
  },
  {
   "cell_type": "code",
   "execution_count": null,
   "metadata": {},
   "outputs": [],
   "source": [
    "# Join province PSGC codes to province names\n",
    "agshare_by_muni_psgc = agshare_by_muni.merge(psgc_df, how='left', \n",
    "                                            left_on=[agshare_by_muni['PROV_NAME'].str.lower(), agshare_by_muni['MUN_NAME'].str.lower()],\n",
    "                                            right_on=[psgc_df['ADM2'].str.lower(), psgc_df['ADM3_EN'].str.lower()])\n",
    "                                             # left_on='MUN_NAME', \n",
    "                                             # right_on='ADM3_EN')\n",
    "\n",
    "agshare_by_muni_psgc.loc[agshare_by_muni_psgc['PROV_NAME'] == 'CAGAYAN']"
   ]
  },
  {
   "cell_type": "code",
   "execution_count": null,
   "metadata": {},
   "outputs": [],
   "source": [
    "# Check if some rows failed to join\n",
    "agshare_by_muni_psgc.loc[agshare_by_muni_psgc['ADM3_CODE'].isnull()]#['MUN_NAME'].values"
   ]
  },
  {
   "cell_type": "code",
   "execution_count": null,
   "metadata": {},
   "outputs": [],
   "source": [
    "agshare_by_muni_psgc.columns"
   ]
  },
  {
   "cell_type": "code",
   "execution_count": null,
   "metadata": {},
   "outputs": [],
   "source": [
    "agshare_by_muni_psgc.shape"
   ]
  },
  {
   "cell_type": "code",
   "execution_count": null,
   "metadata": {},
   "outputs": [],
   "source": [
    "agshare_by_muni_psgc['ADM3_CODE_PH'] = 'PH' + agshare_by_muni_psgc['ADM3_CODE']\n",
    "\n",
    "agshare_by_muni_psgc.head(10)"
   ]
  },
  {
   "cell_type": "code",
   "execution_count": null,
   "metadata": {},
   "outputs": [],
   "source": [
    "# Select only relevant columns for final DF (for export)\n",
    "final_df = agshare_by_muni_psgc[['REGION', 'PROV_NAME', 'ADM3_EN',\n",
    "                                 'ADM3_CODE_PH', 'TOTAL_EMPLOYED',\n",
    "                                 'AGRI_EMPLOYED', 'PERCENT_AGRI']]\n",
    "# Define dict to rename some columns\n",
    "col_names = {\n",
    "    'PROV_NAME': 'ADM2_EN',\n",
    "    'ADM3_CODE_PH': 'ADM3_CODE',\n",
    "    'REGION': 'REGION_NO' # 'ADM1_CODE'\n",
    "}\n",
    "\n",
    "# Apply renaming dict\n",
    "final_df = final_df.rename(columns=col_names)\n",
    "\n",
    "# Convert REGION_NO to int to remove decimal\n",
    "\n",
    "final_df['REGION_NO'] = final_df['REGION_NO'].astype(int)\n",
    "\n",
    "# final_df['ADM1_CODE'] = 'PH' + final_df['ADM1_CODE'].astype(int).astype(str).str.zfill(2) + '0000000'\n",
    "\n",
    "final_df.head(20)"
   ]
  },
  {
   "cell_type": "code",
   "execution_count": null,
   "metadata": {},
   "outputs": [],
   "source": [
    "final_df.to_csv(r'agshare_by_muni.csv', index=False)"
   ]
  },
  {
   "cell_type": "markdown",
   "metadata": {},
   "source": [
    "Epilogue: calculate mean PERCENT_AGRI per province"
   ]
  },
  {
   "cell_type": "code",
   "execution_count": null,
   "metadata": {},
   "outputs": [],
   "source": [
    "by_prov = final_df.groupby('ADM2_EN', as_index=False).mean(numeric_only=True)\n",
    "\n",
    "pd.set_option('display.max_rows', None)\n",
    "by_prov"
   ]
  },
  {
   "cell_type": "code",
   "execution_count": null,
   "metadata": {},
   "outputs": [],
   "source": []
  }
 ],
 "metadata": {
  "kernelspec": {
   "display_name": "ccims",
   "language": "python",
   "name": "python3"
  },
  "language_info": {
   "codemirror_mode": {
    "name": "ipython",
    "version": 3
   },
   "file_extension": ".py",
   "mimetype": "text/x-python",
   "name": "python",
   "nbconvert_exporter": "python",
   "pygments_lexer": "ipython3",
   "version": "3.12.0"
  }
 },
 "nbformat": 4,
 "nbformat_minor": 2
}
